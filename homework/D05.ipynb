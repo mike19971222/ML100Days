{
 "cells": [
  {
   "cell_type": "code",
   "execution_count": 1,
   "metadata": {},
   "outputs": [],
   "source": [
    "import numpy as np"
   ]
  },
  {
   "cell_type": "code",
   "execution_count": 20,
   "metadata": {},
   "outputs": [
    {
     "data": {
      "text/plain": [
       "'1. 產生一個 1-11 的一維陣列，並且把 3-6 由正數變成負數。'"
      ]
     },
     "execution_count": 20,
     "metadata": {},
     "output_type": "execute_result"
    }
   ],
   "source": [
    "'1. 產生一個 1-11 的一維陣列，並且把 3-6 由正數變成負數。'"
   ]
  },
  {
   "cell_type": "code",
   "execution_count": 82,
   "metadata": {},
   "outputs": [
    {
     "name": "stdout",
     "output_type": "stream",
     "text": [
      "[ 1  2 -3 -4 -5 -6  7  8  9 10 11]\n"
     ]
    }
   ],
   "source": [
    "'answer 1'\n",
    "a=np.arange(1,12)\n",
    "a[(a<=6)&(a>=3)] *=-1\n",
    "print(a)\n",
    "    "
   ]
  },
  {
   "cell_type": "code",
   "execution_count": 83,
   "metadata": {},
   "outputs": [
    {
     "data": {
      "text/plain": [
       "'2. 試著從一個隨機陣列中，找出比 0.5 大的數有幾個？'"
      ]
     },
     "execution_count": 83,
     "metadata": {},
     "output_type": "execute_result"
    }
   ],
   "source": [
    "'2. 試著從一個隨機陣列中，找出比 0.5 大的數有幾個？'\n"
   ]
  },
  {
   "cell_type": "code",
   "execution_count": 107,
   "metadata": {},
   "outputs": [
    {
     "name": "stdout",
     "output_type": "stream",
     "text": [
      "[[0.68119803 0.13124218 0.75903083 0.50597583 0.85759157 0.11152833]\n",
      " [0.46786716 0.86289318 0.63826937 0.33372682 0.7292934  0.50927439]\n",
      " [0.37157489 0.53178184 0.56474931 0.94758573 0.76474225 0.72832956]]\n",
      "[[ True False  True  True  True False]\n",
      " [False  True  True False  True  True]\n",
      " [False  True  True  True  True  True]]\n",
      "13\n"
     ]
    }
   ],
   "source": [
    "'answer 2'\n",
    "A = np.random.rand(3, 6)\n",
    "biggerthenpointfive=A[A>0.5]\n",
    "print(A)\n",
    "print(A>0.5)\n",
    "print(biggerthenpointfive.size)"
   ]
  }
 ],
 "metadata": {
  "kernelspec": {
   "display_name": "Python 3",
   "language": "python",
   "name": "python3"
  },
  "language_info": {
   "codemirror_mode": {
    "name": "ipython",
    "version": 3
   },
   "file_extension": ".py",
   "mimetype": "text/x-python",
   "name": "python",
   "nbconvert_exporter": "python",
   "pygments_lexer": "ipython3",
   "version": "3.8.5"
  }
 },
 "nbformat": 4,
 "nbformat_minor": 4
}
