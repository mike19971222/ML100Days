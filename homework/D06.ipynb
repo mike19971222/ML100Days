{
 "cells": [
  {
   "cell_type": "code",
   "execution_count": 33,
   "metadata": {},
   "outputs": [
    {
     "name": "stdout",
     "output_type": "stream",
     "text": [
      "15\n",
      "15\n",
      "[6 9]\n"
     ]
    }
   ],
   "source": [
    "#1.[簡答題] 請問下列這三種方法有什麼不同？\n",
    "import numpy as np \n",
    "\n",
    "a = np.arange(6).reshape((3, 2))\n",
    "\n",
    "\n",
    "print(a.sum()) #回傳所有庶子加總的值\n",
    "print(np.sum(a))#回傳所有數字加總的值\n",
    "print(sum(a))#回傳axis=0加總起來的值"
   ]
  },
  {
   "cell_type": "code",
   "execution_count": 46,
   "metadata": {},
   "outputs": [
    {
     "name": "stdout",
     "output_type": "stream",
     "text": [
      "[[0.67366352 0.07560698 0.53908104 0.06188524 0.07463338]\n",
      " [0.93337241 0.82912425 0.68192539 0.98586504 0.35986868]\n",
      " [0.912055   0.4794271  0.19288465 0.88266068 0.38060777]\n",
      " [0.4198225  0.03892444 0.70178717 0.16725986 0.65630919]\n",
      " [0.74203049 0.27213471 0.91163963 0.44312553 0.39042471]]\n",
      "__________正規化之後______________\n",
      "[[0.67030507 0.03873796 0.5281816  0.02424735 0.03770981]\n",
      " [0.94456608 0.83447664 0.67902986 1.         0.33892753]\n",
      " [0.9220542  0.4651851  0.16258698 0.89101285 0.36082869]\n",
      " [0.40224071 0.         0.70000455 0.13552637 0.65197833]\n",
      " [0.7425028  0.24627761 0.92161555 0.42684946 0.37119569]]\n"
     ]
    }
   ],
   "source": [
    "#2. 請對一個 5x5 的隨機矩陣作正規化的操作。\n",
    "A=np.random.random((5,5))\n",
    "print(A)\n",
    "Amin,Amax=A.min(),A.max()\n",
    "a=(A-Amin)/(Amax-Amin)\n",
    "print('__________正規化之後______________')\n",
    "print(a)"
   ]
  },
  {
   "cell_type": "code",
   "execution_count": 72,
   "metadata": {},
   "outputs": [
    {
     "name": "stdout",
     "output_type": "stream",
     "text": [
      "[81 44 59 72 69 26 10 82  3 79]\n",
      "最大值-> -1\n",
      "[81 44 59 72 69 26 10 -1  3 79]\n"
     ]
    }
   ],
   "source": [
    "#3.請建立一個長度等於 10 的正整數向量，並且將其中的最大值改成 -1。\n",
    "z=np.random.randint(0,100,10)\n",
    "print(z)\n",
    "print('最大值-> -1')\n",
    "z[z.argmax()]=-1\n",
    "print(z)"
   ]
  }
 ],
 "metadata": {
  "kernelspec": {
   "display_name": "Python 3",
   "language": "python",
   "name": "python3"
  },
  "language_info": {
   "codemirror_mode": {
    "name": "ipython",
    "version": 3
   },
   "file_extension": ".py",
   "mimetype": "text/x-python",
   "name": "python",
   "nbconvert_exporter": "python",
   "pygments_lexer": "ipython3",
   "version": "3.8.5"
  }
 },
 "nbformat": 4,
 "nbformat_minor": 4
}
