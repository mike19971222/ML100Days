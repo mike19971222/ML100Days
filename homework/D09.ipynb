{
 "cells": [
  {
   "cell_type": "code",
   "execution_count": 18,
   "metadata": {},
   "outputs": [
    {
     "name": "stdout",
     "output_type": "stream",
     "text": [
      "    Name  Age\n",
      "0   Mike   18\n",
      "1  Alice   20\n"
     ]
    }
   ],
   "source": [
    "import pandas as pd\n",
    "import numpy as np\n"
   ]
  },
  {
   "cell_type": "code",
   "execution_count": 46,
   "metadata": {},
   "outputs": [
    {
     "name": "stdout",
     "output_type": "stream",
     "text": [
      "   Apples  Bananas\n",
      "0      30       21\n",
      "            Apples  Bananas\n",
      "2017 Sales      35       21\n",
      "2018 Sales      41       34\n"
     ]
    }
   ],
   "source": [
    "'1. 請建立類似提供結果的 DataFrame：'\n",
    "#    Apples  Bananas\n",
    "# 0      30       21\n",
    "\n",
    "#             Apples  Bananas\n",
    "# 2017 Sales      35       21\n",
    "# 2018 Sales      41       34\n",
    "df=pd.DataFrame({\n",
    "    'Apples':[30],\n",
    "    'Bananas':[21]\n",
    "})\n",
    "print(df)\n",
    "\n",
    "dff=pd.DataFrame({'Apples':[35, 41],\n",
    "    'Bananas':[21,34]},index=['2017 Sales' ,'2018 Sales'])\n",
    "print(dff)"
   ]
  },
  {
   "cell_type": "code",
   "execution_count": 52,
   "metadata": {},
   "outputs": [
    {
     "name": "stdout",
     "output_type": "stream",
     "text": [
      "     city  visitor weekday\n",
      "0  Austin      139     Sun\n",
      "1  Dallas      237     Sun\n",
      "2  Austin      139     Mon\n",
      "3  DAllas      456     Mon\n"
     ]
    }
   ],
   "source": [
    "'2. 請問如果現在有一個 DataFrame 如下，請問資料在 Python 中可能長怎樣？'\n",
    "#      city  visitor weekday\n",
    "# 0  Austin      139     Sun\n",
    "# 1  Dallas      237     Sun\n",
    "# 2  Austin      139     Mon\n",
    "# 3  Dallas      456     Mon\n",
    "dfff=pd.DataFrame({\n",
    "    'city':['Austin','Dallas','Austin','DAllas'],\n",
    "    'visitor':[139,237,139,456],\n",
    "    'weekday':['Sun','Sun','Mon','Mon']\n",
    "})\n",
    "print(dfff)"
   ]
  },
  {
   "cell_type": "code",
   "execution_count": 69,
   "metadata": {},
   "outputs": [
    {
     "name": "stdout",
     "output_type": "stream",
     "text": [
      "Sun 188.0\n",
      "Mon 297.5\n"
     ]
    }
   ],
   "source": [
    "'3. 承上題，假設你想知道每個 weekday 的平均 visitor 數量，可以怎麼做？'\n",
    "for day in set(dfff['weekday']):\n",
    "    print(day, dfff[dfff['weekday'] == day]['visitor'].mean())\n",
    "   # print(day)"
   ]
  }
 ],
 "metadata": {
  "kernelspec": {
   "display_name": "Python 3",
   "language": "python",
   "name": "python3"
  },
  "language_info": {
   "codemirror_mode": {
    "name": "ipython",
    "version": 3
   },
   "file_extension": ".py",
   "mimetype": "text/x-python",
   "name": "python",
   "nbconvert_exporter": "python",
   "pygments_lexer": "ipython3",
   "version": "3.8.5"
  }
 },
 "nbformat": 4,
 "nbformat_minor": 4
}
