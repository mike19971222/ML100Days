{
 "cells": [
  {
   "cell_type": "code",
   "execution_count": 70,
   "metadata": {},
   "outputs": [],
   "source": [
    "import numpy as np \n",
    "import timeit"
   ]
  },
  {
   "cell_type": "code",
   "execution_count": 72,
   "metadata": {},
   "outputs": [],
   "source": [
    "'1. 請比較對一個 100 x 100 x 100 的陣列，使用不同方法對每一個元素 +1 的時間比較。'\n",
    "Z = np.random.randint(0, 10, 1000000).reshape(100, 100, 100)\n"
   ]
  },
  {
   "cell_type": "code",
   "execution_count": 86,
   "metadata": {},
   "outputs": [
    {
     "name": "stdout",
     "output_type": "stream",
     "text": [
      "62.9 ns ± 4.52 ns per loop (mean ± std. dev. of 7 runs, 10 loops each)\n"
     ]
    }
   ],
   "source": [
    "%timeit -n 10 a = 2\n",
    "for a in Z:\n",
    "    for row in a:\n",
    "        for b in row:\n",
    "            b=b+1\n",
    "        "
   ]
  },
  {
   "cell_type": "code",
   "execution_count": 87,
   "metadata": {},
   "outputs": [
    {
     "name": "stdout",
     "output_type": "stream",
     "text": [
      "31.4 ns ± 8.33 ns per loop (mean ± std. dev. of 7 runs, 10 loops each)\n"
     ]
    }
   ],
   "source": [
    "%timeit -n 10 a = 2\n",
    "for c in Z.flat:\n",
    "    c=c+1"
   ]
  },
  {
   "cell_type": "code",
   "execution_count": 89,
   "metadata": {},
   "outputs": [
    {
     "name": "stdout",
     "output_type": "stream",
     "text": [
      "27.1 ns ± 10.3 ns per loop (mean ± std. dev. of 7 runs, 10 loops each)\n"
     ]
    }
   ],
   "source": [
    "%timeit -n 10 a = 2\n",
    "for d in np.nditer(Z):\n",
    "    d=d+1"
   ]
  },
  {
   "cell_type": "code",
   "execution_count": 159,
   "metadata": {},
   "outputs": [
    {
     "name": "stdout",
     "output_type": "stream",
     "text": [
      "[4 4 3 6 9 0 7 2 9 7 4 8 9 6 6 4 8 7 4 1 2 0 2 8 3 0 7 4 4 1 5 9 3 7 2 4 2\n",
      " 7 0 0 7 1 2 7 3 9 0 4 2 7]\n",
      "4\n",
      "9\n",
      "(array([ 4,  8, 12, 31, 45], dtype=int64),)\n"
     ]
    }
   ],
   "source": [
    "'2. 如何從一個陣列中，找出出現頻率最高的數值與位置？'\n",
    "Z=np.random.randint(0,10,50)\n",
    "print(Z)\n",
    "max_freq=np.argmax(Z)\n",
    "print(max_freq)\n",
    "print(Z[max_freq])\n",
    "a=np.where(Z==Z[max_freq])\n",
    "print(a)"
   ]
  },
  {
   "cell_type": "code",
   "execution_count": 215,
   "metadata": {},
   "outputs": [
    {
     "name": "stdout",
     "output_type": "stream",
     "text": [
      "[1, 9, 6, 5, 1, 0]\n",
      "[1, 9, 6, 5, 1, 0]\n",
      "[[6, 2, 8, 0], [6, 8, 8, 5], [5, 6, 7, 1]]\n",
      "[array([6, 2, 8, 0]), array([6, 8, 8, 5]), array([5, 6, 7, 1])]\n",
      "[[[4, 2], [6, 4], [3, 3]], [[1, 5], [6, 5], [8, 0]]]\n",
      "[array([[4, 2],\n",
      "       [6, 4],\n",
      "       [3, 3]]), array([[1, 5],\n",
      "       [6, 5],\n",
      "       [8, 0]])]\n"
     ]
    }
   ],
   "source": [
    "'3. 如何利用 list(...) 實現 a.tolist() 的效果？試著用程式實作。'\n",
    "a = np.random.randint(10, size=6) \n",
    "\n",
    "print(a.tolist())\n",
    "print(list(a))\n",
    "\n",
    "\n",
    "b = np.random.randint(10, size=(3,4)) \n",
    "\n",
    "print(b.tolist())\n",
    "print(list(b))\n",
    "\n",
    "\n",
    "c = np.random.randint(10, size=(2,3,2)) \n",
    "\n",
    "print(c.tolist())\n",
    "print(list(c))\n"
   ]
  },
  {
   "cell_type": "code",
   "execution_count": 218,
   "metadata": {},
   "outputs": [
    {
     "name": "stdout",
     "output_type": "stream",
     "text": [
      "[1, 9, 6, 5, 1, 0]\n",
      "[[6, 2, 8, 0]]\n",
      "[[6, 2, 8, 0], [6, 8, 8, 5]]\n",
      "[[6, 2, 8, 0], [6, 8, 8, 5], [5, 6, 7, 1]]\n",
      "[[4, 2]]\n",
      "[[4, 2], [6, 4]]\n",
      "[[4, 2], [6, 4], [3, 3]]\n",
      "[[4, 2], [6, 4], [3, 3], [1, 5]]\n",
      "[[4, 2], [6, 4], [3, 3], [1, 5], [6, 5]]\n",
      "[[4, 2], [6, 4], [3, 3], [1, 5], [6, 5], [8, 0]]\n"
     ]
    }
   ],
   "source": [
    "'a'\n",
    "print(list(a))\n",
    "'b'\n",
    "b_list=[]\n",
    "for i in b:\n",
    "    b_list.append(list(i))\n",
    "    print(b_list)\n",
    "'c'\n",
    "c_list=[]\n",
    "for i in range(c.shape[0]):\n",
    "    for j in range(c.shape[1]):\n",
    "        c_list.append(list(c[i][j]))\n",
    "        \n",
    "        print(c_list)"
   ]
  }
 ],
 "metadata": {
  "kernelspec": {
   "display_name": "Python 3",
   "language": "python",
   "name": "python3"
  },
  "language_info": {
   "codemirror_mode": {
    "name": "ipython",
    "version": 3
   },
   "file_extension": ".py",
   "mimetype": "text/x-python",
   "name": "python",
   "nbconvert_exporter": "python",
   "pygments_lexer": "ipython3",
   "version": "3.8.5"
  }
 },
 "nbformat": 4,
 "nbformat_minor": 4
}
